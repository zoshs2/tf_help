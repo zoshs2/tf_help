{
 "cells": [
  {
   "cell_type": "markdown",
   "metadata": {},
   "source": [
    "# Tensorflow가 GPU를 활용하는 방식"
   ]
  },
  {
   "cell_type": "markdown",
   "metadata": {},
   "source": [
    "<font size=3> Tensorflow는 default로 GPU메모리를 할당받으면서 시작되는데...<br>\n",
    "이 경우, 파이썬 프로세스를 하나만 켜더라도 GPU메모리가 허덕이는 경우를 종종 봤을 것이다.<br>\n",
    "$ nvidia-smi 를 쳐보면, import tensorflow as tf 를 시작으로\n",
    "거의 모든 전체의 GPU메모리를 할당받은 모습을 볼 수 있다."
   ]
  },
  {
   "cell_type": "markdown",
   "metadata": {},
   "source": [
    "# 왜 이러는걸까"
   ]
  },
  {
   "cell_type": "markdown",
   "metadata": {},
   "source": [
    "<font size=3> 우선 이것은 우연의 일치도, 누구의 잘못도 아니라는 점.<br>\n",
    "여기에 대해 **Tensorflow 측**은 아래와 같이 이유를 밝힌 바 있다. <br></font>\n",
    "<font size=5>**\"By default, TensorFlow maps nearly all of the GPU memory of all GPUs visible to the process.<br>\n",
    "   This is done to more efficiently use the relatively precious GPU memory resouces on the devices by reducing.\"**<br></font>\n",
    "<font size=3> 정리하자면, Tensorflow는 일단 시작하면, 기본적으로, 프로세스에서 조회되는(visible) 모든 GPU들의 모든 메모리들을 끌어다 쓴다(Map)는 말이다.<br>"
   ]
  },
  {
   "cell_type": "markdown",
   "metadata": {},
   "source": [
    " ㅜㅜㅜㅜㅜn"
   ]
  }
 ],
 "metadata": {
  "kernelspec": {
   "display_name": "Python 3",
   "language": "python",
   "name": "python3"
  },
  "language_info": {
   "codemirror_mode": {
    "name": "ipython",
    "version": 3
   },
   "file_extension": ".py",
   "mimetype": "text/x-python",
   "name": "python",
   "nbconvert_exporter": "python",
   "pygments_lexer": "ipython3",
   "version": "3.6.10"
  }
 },
 "nbformat": 4,
 "nbformat_minor": 4
}
