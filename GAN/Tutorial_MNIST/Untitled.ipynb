{
 "cells": [
  {
   "cell_type": "code",
   "execution_count": 1,
   "metadata": {},
   "outputs": [
    {
     "data": {
      "text/plain": [
       "'\\nGAN(Generative Adversarial Networks)을 이용한 MNIST 데이터 생성\\n\\nReference : https://github.com/TengdaHan/GAN-TensorFlow\\n'"
      ]
     },
     "execution_count": 1,
     "metadata": {},
     "output_type": "execute_result"
    }
   ],
   "source": [
    "'''\n",
    "GAN(Generative Adversarial Networks)을 이용한 MNIST 데이터 생성\n",
    "\n",
    "Reference : https://github.com/TengdaHan/GAN-TensorFlow\n",
    "'''"
   ]
  },
  {
   "cell_type": "code",
   "execution_count": 1,
   "metadata": {},
   "outputs": [],
   "source": [
    "import os \n",
    "import numpy as np\n",
    "import matplotlib.pyplot as plt\n",
    "from tqdm import tqdm"
   ]
  },
  {
   "cell_type": "code",
   "execution_count": 2,
   "metadata": {},
   "outputs": [
    {
     "name": "stderr",
     "output_type": "stream",
     "text": [
      "Using TensorFlow backend.\n"
     ]
    }
   ],
   "source": [
    "from keras.layers import Input\n",
    "from keras.models import Model, Sequential\n",
    "from keras.layers.core import Dense, Dropout\n",
    "from keras.layers.advanced_activations import LeakyReLU\n",
    "from keras.datasets import mnist\n",
    "from keras.optimizers import Adam\n",
    "from keras import initializers"
   ]
  },
  {
   "cell_type": "code",
   "execution_count": 3,
   "metadata": {},
   "outputs": [],
   "source": [
    "# 튜토리얼에서 나온 실험을 재현하고 동일한 결과를 얻을 수 있는지 확인하기 위해 SEED를 설정하겠다\n",
    "np.random.seed(10)\n",
    "\n",
    "# 우리의 랜덤 노이즈 벡터의 차원을 설정한다.\n",
    "# latent space (Generator의 인풋이 존재하는 공간)의 차원\n",
    "random_dim = 100"
   ]
  },
  {
   "cell_type": "code",
   "execution_count": 4,
   "metadata": {},
   "outputs": [],
   "source": [
    "# 역시 튜토리얼에는 MNIST지.\n",
    "def load_mnist_data():\n",
    "    # 데이터를 로드\n",
    "    (x_train, y_train), (x_test, y_test) = mnist.load_data()\n",
    "    \n",
    "    # 데이터를 -1 ~ 1 사이 값으로 normalize 한다.\n",
    "    x_train = (x_train.astype(np.float32) - 127.5) / 127.5\n",
    "    \n",
    "    # x_train 의 shape을 (60000, 28, 28) 인데, 이것들을 (60000, 784)로 바꾼다.\n",
    "    # 따라서 우리는 60000개의 row들과 한 row당 784 columns 을 가지는 데이터를 가진다.\n",
    "    x_train = x_train.reshape(60000, 784)\n",
    "\n",
    "    return (x_train, y_train, x_test, y_test)"
   ]
  },
  {
   "cell_type": "code",
   "execution_count": 5,
   "metadata": {},
   "outputs": [],
   "source": [
    "# Adam Optimizer 를 사용\n",
    "def get_optimizer():\n",
    "    return Adam(lr=0.0002)\n",
    "\n",
    "# Generator network 만들기\n",
    "def get_generator(optimizer):\n",
    "    generator = Sequential()\n",
    "    generatortor.add(Dense(256, input_dim=random_dim, kernel_initializer=initializers.RandomNormal(stddev=0.02), activation='relu'))\n",
    "    # generator의 activation 은 ReLU를 쓰는걸 권장하고 있다. generator.add(LeakyReLU(0.2))\n",
    "    \n",
    "    generator.add(Dense(512, activation='relu'))\n",
    "    # generator.add(LeakyReLU(0.2))\n",
    "\n",
    "    generator.add(Dense(1024, activation='relu'))\n",
    "    # generator.add(LeakyReLU(0.2))\n",
    "\n",
    "    generator.add(Dense(784, activation='tanh'))\n",
    "    generator.compile(loss='binary_crossentropy', optimizer=optimizer)\n",
    "    return generator\n",
    "\n",
    "# Discriminator network 만들기\n",
    "def get_discriminator(optimizer):\n",
    "    discriminator = Sequential()\n",
    "    discriminator.add(Dense(1024, input_dim=784, kernel_initializer=initializers.RandomNormal(stddev=0.02)))\n",
    "    discriminator.add(LeakyReLU(0.2))\n",
    "    discriminator.add(Dropout(0.3))\n",
    "\n",
    "    discriminator.add(Dense(512))\n",
    "    discriminator.add(LeakyReLU(0.2))\n",
    "    discriminator.add(Dropout(0.3))\n",
    "\n",
    "    discriminator.add(Dense(256))\n",
    "    discriminator.add(LeakyReLU(0.2))\n",
    "    discriminator.add(Dropout(0.3))\n",
    "\n",
    "    discriminator.add(Dense(1, activation='sigmoid'))\n",
    "    discriminator.compile(loss='binary_crossentropy', optimizer=optimizer)\n",
    "    return discriminator"
   ]
  },
  {
   "cell_type": "code",
   "execution_count": 6,
   "metadata": {},
   "outputs": [],
   "source": [
    "# 이제 Generator 와 Discriminator 를 함께 모으자.\n",
    "def get_gan_network(discriminator, random_dim, generator, optimizer):\n",
    "    # 우리는 Generator와 Discriminator를 동시에 학습시키고 싶으므로, trainable 을 False 로 설정한다.\n",
    "    discriminator.trainable = False # [궁금] trainable 변수 뭥미\n",
    "    \n",
    "    # GAN 입력(노이즈)은 위에서 100차원으로 설정했었다.\n",
    "    gan_input = Input(shape=(random_dim,))\n",
    "    \n",
    "    # Generator 의 결과는 이미지이다.\n",
    "    x = generator(gan_input)\n",
    "    \n",
    "    # Discriminator의 결과는 이미지가 진짜인지 가짜인지에 대한 \"확률\"이다.\n",
    "    gan_output = discriminator(x)\n",
    "    \n",
    "    gan = Model(inputs=gan_input, outputs=gan_output)\n",
    "    gan.compile(loss='binary_crossentropy', optimizer=optimizer)\n",
    "    return gan"
   ]
  },
  {
   "cell_type": "code",
   "execution_count": 7,
   "metadata": {},
   "outputs": [],
   "source": [
    "def plot_generated_images(epoch, generator, examples=100, dim=(10, 10), figsize=(10, 10)):\n",
    "    noise = np.random.normal(0, 1, size=[examples, random_dim])\n",
    "    generated_images = generator.predict(noise)\n",
    "    generated_images = generated_images.reshape(examples, 28, 28)\n",
    "\n",
    "    plt.figure(figsize=figsize)\n",
    "    for i in range(generated_images.shape[0]):\n",
    "        plt.subplot(dim[0], dim[1], i+1)\n",
    "        plt.imshow(generated_images[i], interpolation='nearest', cmap='gray_r')\n",
    "        plt.axis('off')\n",
    "    plt.tight_layout()\n",
    "    plt.savefig('gan_generated_image_epoch_%d.png' % epoch)"
   ]
  },
  {
   "cell_type": "code",
   "execution_count": 9,
   "metadata": {},
   "outputs": [],
   "source": [
    "def train(epochs=1, batch_size=128):\n",
    "    # train 데이터와 test 데이터를 가져옵니다.\n",
    "    x_train, y_train, x_test, y_test = load_minst_data()\n",
    "\n",
    "    # train 데이터를 128 사이즈의 batch 로 나눕니다.\n",
    "    batch_count = x_train.shape[0] // batch_size\n",
    "\n",
    "    # 우리의 GAN 네트워크를 만듭니다.\n",
    "    adam = get_optimizer()\n",
    "    generator = get_generator(adam)\n",
    "    discriminator = get_discriminator(adam)\n",
    "    gan = get_gan_network(discriminator, random_dim, generator, adam)\n",
    "\n",
    "    for e in range(1, epochs+1):\n",
    "        print('-'*15, 'Epoch %d' % e, '-'*15)\n",
    "        for _ in tqdm(xrange(batch_count)):\n",
    "            # 입력으로 사용할 random 노이즈와 이미지를 가져옵니다.\n",
    "            noise = np.random.normal(0, 1, size=[batch_size, random_dim])\n",
    "\n",
    "            image_batch = x_train[np.random.randint(0, x_train.shape[0], size=batch_size)]\n",
    "\n",
    "            # MNIST 이미지를 생성합니다.\n",
    "            generated_images = generator.predict(noise)\n",
    "            X = np.concatenate([image_batch, generated_images])\n",
    "\n",
    "            y_dis = np.zeros(2*batch_size)\n",
    "            y_dis[:batch_size] = 0.9\n",
    "\n",
    "            # Discriminator를 학습시킵니다.\n",
    "            discriminator.trainable = True\n",
    "            discriminator.train_on_batch(X, y_dis)\n",
    "\n",
    "            # Generator를 학습시킵니다.\n",
    "            noise = np.random.normal(0, 1, size=[batch_size, random_dim])\n",
    "            y_gen = np.ones(batch_size)\n",
    "            discriminator.trainable = False\n",
    "            gan.train_on_batch(noise, y_gen)\n",
    "\n",
    "        if e == 1 or e % 20 == 0:\n",
    "            plot_generated_images(e, generator)"
   ]
  },
  {
   "cell_type": "code",
   "execution_count": null,
   "metadata": {},
   "outputs": [],
   "source": [
    "train(400, 128)"
   ]
  }
 ],
 "metadata": {
  "kernelspec": {
   "display_name": "Python 3",
   "language": "python",
   "name": "python3"
  },
  "language_info": {
   "codemirror_mode": {
    "name": "ipython",
    "version": 3
   },
   "file_extension": ".py",
   "mimetype": "text/x-python",
   "name": "python",
   "nbconvert_exporter": "python",
   "pygments_lexer": "ipython3",
   "version": "3.7.4"
  }
 },
 "nbformat": 4,
 "nbformat_minor": 4
}
